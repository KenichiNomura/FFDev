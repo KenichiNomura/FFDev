{
 "cells": [
  {
   "cell_type": "code",
   "execution_count": 1,
   "metadata": {
    "scrolled": false
   },
   "outputs": [
    {
     "data": {
      "application/vnd.jupyter.widget-view+json": {
       "model_id": "1a7ba03a7c324560bded3b1f55ff3dc2",
       "version_major": 2,
       "version_minor": 0
      },
      "text/html": [
       "<p>Failed to display Jupyter Widget of type <code>interactive</code>.</p>\n",
       "<p>\n",
       "  If you're reading this message in the Jupyter Notebook or JupyterLab Notebook, it may mean\n",
       "  that the widgets JavaScript is still loading. If this message persists, it\n",
       "  likely means that the widgets JavaScript library is either not installed or\n",
       "  not enabled. See the <a href=\"https://ipywidgets.readthedocs.io/en/stable/user_install.html\">Jupyter\n",
       "  Widgets Documentation</a> for setup instructions.\n",
       "</p>\n",
       "<p>\n",
       "  If you're reading this message in another frontend (for example, a static\n",
       "  rendering on GitHub or <a href=\"https://nbviewer.jupyter.org/\">NBViewer</a>),\n",
       "  it may mean that your frontend doesn't currently support widgets.\n",
       "</p>\n"
      ],
      "text/plain": [
       "interactive(children=(IntSlider(value=0, description='mol_id', max=32), Output()), _dom_classes=('widget-interact',))"
      ]
     },
     "metadata": {},
     "output_type": "display_data"
    },
    {
     "data": {
      "text/plain": [
       "<function __main__.plot_molecule>"
      ]
     },
     "execution_count": 1,
     "metadata": {},
     "output_type": "execute_result"
    }
   ],
   "source": [
    "# https://pypi.org/project/py3Dmol/\n",
    "# > pip install py3Dmol\n",
    "# > jupyter labextension install jupyterlab_3dmol\n",
    "# > jupyter notebook\n",
    "# https://ipywidgets.readthedocs.io/en/stable/user_install.html\n",
    "# > pip install ipywidgets\n",
    "# > jupyter nbextension enable --py widgetsnbextension\n",
    "\n",
    "import os\n",
    "import py3Dmol\n",
    "import ipywidgets as widgets\n",
    "\n",
    "def get_xyz(file_path):\n",
    "    xyz = ''\n",
    "    with open(file_path,'r') as fin:\n",
    "        for line in fin:\n",
    "            xyz += line\n",
    "    return xyz\n",
    "\n",
    "ROOT_DIR=r'../Qchem clusters for PE with defects'\n",
    "FILELIST = []\n",
    "for root, dirs, files in os.walk(ROOT_DIR):\n",
    "    for filename in files:\n",
    "        if filename.endswith(\".xyz\"):\n",
    "            filepath = os.path.join(root, filename)\n",
    "            FILELIST.append(filepath)\n",
    "\n",
    "def plot_molecule(mol_id):\n",
    "    xyz_path = FILELIST[mol_id]\n",
    "    print(xyz_path)\n",
    "    xyz = get_xyz(xyz_path)\n",
    "    xyzview = py3Dmol.view(width=400,height=400)\n",
    "    xyzview.addModel(xyz,'xyz')\n",
    "    xyzview.setStyle({'stick':{}})\n",
    "    xyzview.zoomTo()\n",
    "    xyzview.show()\n",
    "    print(xyz)\n",
    "\n",
    "len(FILELIST)\n",
    "widgets.interact(plot_molecule,mol_id=widgets.IntSlider(min=0,max=len(FILELIST)-1,step=1,value=0))\n"
   ]
  },
  {
   "cell_type": "code",
   "execution_count": 1,
   "metadata": {},
   "outputs": [
    {
     "name": "stdout",
     "output_type": "stream",
     "text": [
      "/Users/knomura/Repos/FFDev/Tools\n"
     ]
    }
   ],
   "source": []
  },
  {
   "cell_type": "code",
   "execution_count": null,
   "metadata": {},
   "outputs": [],
   "source": []
  }
 ],
 "metadata": {
  "kernelspec": {
   "display_name": "Python 3",
   "language": "python",
   "name": "python3"
  },
  "language_info": {
   "codemirror_mode": {
    "name": "ipython",
    "version": 3
   },
   "file_extension": ".py",
   "mimetype": "text/x-python",
   "name": "python",
   "nbconvert_exporter": "python",
   "pygments_lexer": "ipython3",
   "version": "3.6.4"
  }
 },
 "nbformat": 4,
 "nbformat_minor": 2
}
