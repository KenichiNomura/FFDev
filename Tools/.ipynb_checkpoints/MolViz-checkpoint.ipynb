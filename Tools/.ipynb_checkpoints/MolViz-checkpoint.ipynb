{
 "cells": [
  {
   "cell_type": "code",
   "execution_count": 5,
   "metadata": {
    "scrolled": false
   },
   "outputs": [
    {
     "name": "stdout",
     "output_type": "stream",
     "text": [
      "../Qchem clusters for PE with defects/selenium/03/03.xyz\n"
     ]
    },
    {
     "data": {
      "application/3dmoljs_load.v0": "<div id=\"3dmolviewer_15510440780926988\"  style=\"position: relative; width: 400px; height: 400px\">\n        <p id=\"3dmolwarning_15510440780926988\" style=\"background-color:#ffcccc;color:black\">You appear to be running in JupyterLab (or JavaScript failed to load for some other reason).  You need to install the 3dmol extension: <br>\n        <tt>jupyter labextension install jupyterlab_3dmol</tt></p>\n        </div>\n<script>\n\nvar loadScriptAsync = function(uri){\n  return new Promise((resolve, reject) => {\n    var tag = document.createElement('script');\n    tag.src = uri;\n    tag.async = true;\n    tag.onload = () => {\n      resolve();\n    };\n  var firstScriptTag = document.getElementsByTagName('script')[0];\n  firstScriptTag.parentNode.insertBefore(tag, firstScriptTag);\n});\n};\n\nif(typeof $3Dmolpromise === 'undefined') {\n$3Dmolpromise = null;\n  $3Dmolpromise = loadScriptAsync('https://3dmol.csb.pitt.edu/build/3Dmol.js');\n}\n\nvar viewer_15510440780926988 = null;\nvar warn = document.getElementById(\"3dmolwarning_15510440780926988\");\nif(warn) {\n    warn.parentNode.removeChild(warn);\n}\n$3Dmolpromise.then(function() {\nviewer_15510440780926988 = $3Dmol.createViewer($(\"#3dmolviewer_15510440780926988\"),{backgroundColor:\"white\"});\n\tviewer_15510440780926988.addModel(\"13\\nC3H8Se2\\nSe    1.870900    0.175900   -0.051900\\n C    0.575300   -1.200000    0.467400\\n C   -0.687000   -1.059800   -0.385600\\n C   -1.647200   -2.208000   -0.068200\\nSe   -1.558500    0.649900    0.013200\\n H   -1.851500    0.486400    1.536700\\n H    3.049900   -0.144000    0.918300\\n H    1.011300   -2.186800    0.311700\\n H    0.318200   -1.078300    1.519600\\n H   -0.417700   -1.092800   -1.441300\\n H   -1.916600   -2.175000    0.987500\\n H   -2.546500   -2.108100   -0.675900\\n H   -1.162600   -3.158800   -0.290000\\n\",\"xyz\");\n\tviewer_15510440780926988.setStyle({\"stick\": {}});\n\tviewer_15510440780926988.zoomTo();\nviewer_15510440780926988.render();\n});\n</script>",
      "text/html": [
       "<div id=\"3dmolviewer_15510440780926988\"  style=\"position: relative; width: 400px; height: 400px\">\n",
       "        <p id=\"3dmolwarning_15510440780926988\" style=\"background-color:#ffcccc;color:black\">You appear to be running in JupyterLab (or JavaScript failed to load for some other reason).  You need to install the 3dmol extension: <br>\n",
       "        <tt>jupyter labextension install jupyterlab_3dmol</tt></p>\n",
       "        </div>\n",
       "<script>\n",
       "\n",
       "var loadScriptAsync = function(uri){\n",
       "  return new Promise((resolve, reject) => {\n",
       "    var tag = document.createElement('script');\n",
       "    tag.src = uri;\n",
       "    tag.async = true;\n",
       "    tag.onload = () => {\n",
       "      resolve();\n",
       "    };\n",
       "  var firstScriptTag = document.getElementsByTagName('script')[0];\n",
       "  firstScriptTag.parentNode.insertBefore(tag, firstScriptTag);\n",
       "});\n",
       "};\n",
       "\n",
       "if(typeof $3Dmolpromise === 'undefined') {\n",
       "$3Dmolpromise = null;\n",
       "  $3Dmolpromise = loadScriptAsync('https://3dmol.csb.pitt.edu/build/3Dmol.js');\n",
       "}\n",
       "\n",
       "var viewer_15510440780926988 = null;\n",
       "var warn = document.getElementById(\"3dmolwarning_15510440780926988\");\n",
       "if(warn) {\n",
       "    warn.parentNode.removeChild(warn);\n",
       "}\n",
       "$3Dmolpromise.then(function() {\n",
       "viewer_15510440780926988 = $3Dmol.createViewer($(\"#3dmolviewer_15510440780926988\"),{backgroundColor:\"white\"});\n",
       "\tviewer_15510440780926988.addModel(\"13\\nC3H8Se2\\nSe    1.870900    0.175900   -0.051900\\n C    0.575300   -1.200000    0.467400\\n C   -0.687000   -1.059800   -0.385600\\n C   -1.647200   -2.208000   -0.068200\\nSe   -1.558500    0.649900    0.013200\\n H   -1.851500    0.486400    1.536700\\n H    3.049900   -0.144000    0.918300\\n H    1.011300   -2.186800    0.311700\\n H    0.318200   -1.078300    1.519600\\n H   -0.417700   -1.092800   -1.441300\\n H   -1.916600   -2.175000    0.987500\\n H   -2.546500   -2.108100   -0.675900\\n H   -1.162600   -3.158800   -0.290000\\n\",\"xyz\");\n",
       "\tviewer_15510440780926988.setStyle({\"stick\": {}});\n",
       "\tviewer_15510440780926988.zoomTo();\n",
       "viewer_15510440780926988.render();\n",
       "});\n",
       "</script>"
      ]
     },
     "metadata": {},
     "output_type": "display_data"
    },
    {
     "name": "stdout",
     "output_type": "stream",
     "text": [
      "13\n",
      "C3H8Se2\n",
      "Se    1.870900    0.175900   -0.051900\n",
      " C    0.575300   -1.200000    0.467400\n",
      " C   -0.687000   -1.059800   -0.385600\n",
      " C   -1.647200   -2.208000   -0.068200\n",
      "Se   -1.558500    0.649900    0.013200\n",
      " H   -1.851500    0.486400    1.536700\n",
      " H    3.049900   -0.144000    0.918300\n",
      " H    1.011300   -2.186800    0.311700\n",
      " H    0.318200   -1.078300    1.519600\n",
      " H   -0.417700   -1.092800   -1.441300\n",
      " H   -1.916600   -2.175000    0.987500\n",
      " H   -2.546500   -2.108100   -0.675900\n",
      " H   -1.162600   -3.158800   -0.290000\n",
      "\n"
     ]
    },
    {
     "data": {
      "text/plain": [
       "<function __main__.plot_molecule>"
      ]
     },
     "execution_count": 5,
     "metadata": {},
     "output_type": "execute_result"
    }
   ],
   "source": [
    "# https://pypi.org/project/py3Dmol/\n",
    "# > pip install py3Dmol\n",
    "# > jupyter labextension install jupyterlab_3dmol\n",
    "# > jupyter notebook\n",
    "# https://ipywidgets.readthedocs.io/en/stable/user_install.html\n",
    "# > pip install ipywidgets\n",
    "# > jupyter nbextension enable --py widgetsnbextension\n",
    "\n",
    "import os\n",
    "import py3Dmol\n",
    "import ipywidgets as widgets\n",
    "\n",
    "def get_xyz(file_path):\n",
    "    xyz = ''\n",
    "    with open(file_path,'r') as fin:\n",
    "        for line in fin:\n",
    "            xyz += line\n",
    "    return xyz\n",
    "\n",
    "ROOT_DIR=r'../Qchem clusters for PE with defects'\n",
    "FILELIST = []\n",
    "for root, dirs, files in os.walk(ROOT_DIR):\n",
    "    for filename in files:\n",
    "        if filename.endswith(\".xyz\"):\n",
    "            filepath = os.path.join(root, filename)\n",
    "            FILELIST.append(filepath)\n",
    "\n",
    "def plot_molecule(i):\n",
    "    xyz_path = FILELIST[i]\n",
    "    print(xyz_path)\n",
    "    xyz = get_xyz(xyz_path)\n",
    "    xyzview = py3Dmol.view(width=400,height=400)\n",
    "    xyzview.addModel(xyz,'xyz')\n",
    "    xyzview.setStyle({'stick':{}})\n",
    "    xyzview.zoomTo()\n",
    "    xyzview.show()\n",
    "    print(xyz)\n",
    "\n",
    "len(FILELIST)\n",
    "widgets.interact(plot_molecule,i=widgets.IntSlider(min=0,max=len(FILELIST)-1,step=1,value=0))\n"
   ]
  },
  {
   "cell_type": "code",
   "execution_count": 1,
   "metadata": {},
   "outputs": [
    {
     "name": "stdout",
     "output_type": "stream",
     "text": [
      "/Users/knomura/Repos/FFDev/Tools\n"
     ]
    }
   ],
   "source": []
  },
  {
   "cell_type": "code",
   "execution_count": null,
   "metadata": {},
   "outputs": [],
   "source": []
  }
 ],
 "metadata": {
  "kernelspec": {
   "display_name": "Python 3",
   "language": "python",
   "name": "python3"
  },
  "language_info": {
   "codemirror_mode": {
    "name": "ipython",
    "version": 3
   },
   "file_extension": ".py",
   "mimetype": "text/x-python",
   "name": "python",
   "nbconvert_exporter": "python",
   "pygments_lexer": "ipython3",
   "version": "3.6.4"
  }
 },
 "nbformat": 4,
 "nbformat_minor": 2
}
